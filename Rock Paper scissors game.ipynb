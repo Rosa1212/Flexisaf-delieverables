{
 "cells": [
  {
   "cell_type": "code",
   "execution_count": 14,
   "id": "dd4b3da7-780d-4b84-94dd-2d9b8add3d29",
   "metadata": {},
   "outputs": [],
   "source": [
    "import random\n",
    " \n",
    "def play_game(user_choice):\n",
    "    #Step 1:Define possible choices\n",
    "    choices = [\"rock\",\"paper\",\"scissors\"]\n",
    "    user_choice = user_choice.lower()\n",
    "    #Validate input\n",
    "    if user_choice not in choices:\n",
    "        return\"Invalid choice! Please choose rock,paper,scissors.\"\n",
    "    #Step 2:Generate a random choice for the computer\n",
    "    computer_choice = ramdom.choice(choices)\n",
    "    print(f\"Computer chose: {computer_choice}\")\n",
    "    #Step 3:Determine the winner\n",
    "    if user_choice==computer_choice:\n",
    "        return \"It's a tie!\"\n",
    "    elif(user_choice==\"rock\" and computer_choice==\"scissors\") or \\\n",
    "        (user_choice==\"paper\" and computer_choice==\"rock\") or \\\n",
    "        (user_choice==\"scissors\" and computer_choice==\"paper\"):\n",
    "        return\"You win!\"\n",
    "    else:\n",
    "        return \"Computer win!\"\n"
   ]
  },
  {
   "cell_type": "code",
   "execution_count": null,
   "id": "4c0a041c-ef1a-47dc-8c19-2a3963cbd90a",
   "metadata": {},
   "outputs": [],
   "source": [
    "play_game(\"rock\")"
   ]
  }
 ],
 "metadata": {
  "kernelspec": {
   "display_name": "Python [conda env:base] *",
   "language": "python",
   "name": "conda-base-py"
  },
  "language_info": {
   "codemirror_mode": {
    "name": "ipython",
    "version": 3
   },
   "file_extension": ".py",
   "mimetype": "text/x-python",
   "name": "python",
   "nbconvert_exporter": "python",
   "pygments_lexer": "ipython3",
   "version": "3.12.7"
  }
 },
 "nbformat": 4,
 "nbformat_minor": 5
}
