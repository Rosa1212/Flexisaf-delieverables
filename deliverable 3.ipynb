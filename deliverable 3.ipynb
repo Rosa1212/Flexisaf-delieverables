{
 "cells": [
  {
   "cell_type": "code",
   "execution_count": 1,
   "id": "c7a550d0-4f24-4b78-bf52-c31c55cf2c55",
   "metadata": {},
   "outputs": [],
   "source": [
    "##import libraries##\n",
    "import pandas as pd\n",
    "import numpy as np\n",
    "from scipy import stats"
   ]
  },
  {
   "cell_type": "code",
   "execution_count": 11,
   "id": "c58647eb-cc7b-495c-adae-1e163b17d24e",
   "metadata": {},
   "outputs": [],
   "source": [
    "##create dataset##\n",
    "data=pd.DataFrame({\n",
    "                   \"Age\":[22,38,26,35,28,40,30,29,50,41],\n",
    "                   \"Salary\":[2500,3500,2800,4000,3000,4200,3200,3100,5000,4500],\n",
    "                   \"Experience\":[1,10,3,8,4,12,6,5,20,15]})"
   ]
  },
  {
   "cell_type": "code",
   "execution_count": 12,
   "id": "0d0a5aa6-98d4-4057-85b7-570010439e1c",
   "metadata": {},
   "outputs": [
    {
     "name": "stdout",
     "output_type": "stream",
     "text": [
      "First 5 rows:\n",
      "   Age  Salary  Experience\n",
      "0   22    2500           1\n",
      "1   38    3500          10\n",
      "2   26    2800           3\n",
      "3   35    4000           8\n",
      "4   28    3000           4 \n",
      "\n",
      "Data types anad info:\n",
      "<class 'pandas.core.frame.DataFrame'>\n",
      "RangeIndex: 10 entries, 0 to 9\n",
      "Data columns (total 3 columns):\n",
      " #   Column      Non-Null Count  Dtype\n",
      "---  ------      --------------  -----\n",
      " 0   Age         10 non-null     int64\n",
      " 1   Salary      10 non-null     int64\n",
      " 2   Experience  10 non-null     int64\n",
      "dtypes: int64(3)\n",
      "memory usage: 372.0 bytes\n",
      "None \n",
      "\n",
      "Summary statistics:\n",
      "             Age       Salary  Experience\n",
      "count  10.000000    10.000000   10.000000\n",
      "mean   33.900000  3580.000000    8.400000\n",
      "std     8.451824   810.760959    5.910443\n",
      "min    22.000000  2500.000000    1.000000\n",
      "25%    28.250000  3025.000000    4.250000\n",
      "50%    32.500000  3350.000000    7.000000\n",
      "75%    39.500000  4150.000000   11.500000\n",
      "max    50.000000  5000.000000   20.000000 \n",
      "\n"
     ]
    }
   ],
   "source": [
    "print(\"First 5 rows:\")\n",
    "print(data.head(),\"\\n\")\n",
    "\n",
    "print(\"Data types anad info:\")\n",
    "print (data.info(),\"\\n\")\n",
    "\n",
    "print(\"Summary statistics:\")\n",
    "print(data.describe(),\"\\n\")"
   ]
  },
  {
   "cell_type": "code",
   "execution_count": 13,
   "id": "4f0db4e5-c25d-4489-9115-b1530c378569",
   "metadata": {},
   "outputs": [
    {
     "name": "stdout",
     "output_type": "stream",
     "text": [
      "Feature: Age\n",
      "  Mean: 33.90\n",
      "  Median: 32.50\n",
      "  Mode: 22.00\n",
      "  Std Dev: 8.45\n",
      "\n",
      "Feature: Salary\n",
      "  Mean: 3580.00\n",
      "  Median: 3350.00\n",
      "  Mode: 2500.00\n",
      "  Std Dev: 810.76\n",
      "\n",
      "Feature: Experience\n",
      "  Mean: 8.40\n",
      "  Median: 7.00\n",
      "  Mode: 1.00\n",
      "  Std Dev: 5.91\n",
      "\n"
     ]
    }
   ],
   "source": [
    "for col in data.columns:\n",
    "    print(f\"Feature: {col}\")\n",
    "    print(f\"  Mean: {data[col].mean():.2f}\")\n",
    "    print(f\"  Median: {data[col].median():.2f}\")\n",
    "    print(f\"  Mode: {data[col].mode()[0]:.2f}\")\n",
    "    print(f\"  Std Dev: {data[col].std():.2f}\\n\")"
   ]
  },
  {
   "cell_type": "code",
   "execution_count": 14,
   "id": "6d6fe3bd-6bb1-448e-92d2-65b3871d1a93",
   "metadata": {},
   "outputs": [
    {
     "name": "stdout",
     "output_type": "stream",
     "text": [
      "Correlation matrix:\n",
      "                 Age    Salary  Experience\n",
      "Age         1.000000  0.966084    0.988464\n",
      "Salary      0.966084  1.000000    0.968753\n",
      "Experience  0.988464  0.968753    1.000000\n"
     ]
    }
   ],
   "source": [
    "print(\"Correlation matrix:\")\n",
    "print(data.corr())"
   ]
  },
  {
   "cell_type": "code",
   "execution_count": null,
   "id": "f56e89fb-40c8-4f4e-a5d2-a464b28abf79",
   "metadata": {},
   "outputs": [],
   "source": [
    "print(\"Correlation matrix:\")\n",
    "print(data.corr())"
   ]
  }
 ],
 "metadata": {
  "kernelspec": {
   "display_name": "Python [conda env:base] *",
   "language": "python",
   "name": "conda-base-py"
  },
  "language_info": {
   "codemirror_mode": {
    "name": "ipython",
    "version": 3
   },
   "file_extension": ".py",
   "mimetype": "text/x-python",
   "name": "python",
   "nbconvert_exporter": "python",
   "pygments_lexer": "ipython3",
   "version": "3.12.7"
  }
 },
 "nbformat": 4,
 "nbformat_minor": 5
}
